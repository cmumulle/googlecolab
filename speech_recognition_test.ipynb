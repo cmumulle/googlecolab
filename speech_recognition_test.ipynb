{
  "nbformat": 4,
  "nbformat_minor": 0,
  "metadata": {
    "colab": {
      "name": "Untitled0.ipynb",
      "provenance": [],
      "authorship_tag": "ABX9TyMCKAxXQz8n6TmOeVWDDu+2",
      "include_colab_link": true
    },
    "kernelspec": {
      "name": "python3",
      "display_name": "Python 3"
    },
    "language_info": {
      "name": "python"
    }
  },
  "cells": [
    {
      "cell_type": "markdown",
      "metadata": {
        "id": "view-in-github",
        "colab_type": "text"
      },
      "source": [
        "<a href=\"https://colab.research.google.com/github/cmumulle/googlecolab/blob/main/speech_recognition_test.ipynb\" target=\"_parent\"><img src=\"https://colab.research.google.com/assets/colab-badge.svg\" alt=\"Open In Colab\"/></a>"
      ]
    },
    {
      "cell_type": "code",
      "metadata": {
        "id": "hORAYUJ4q-XQ"
      },
      "source": [
        ""
      ],
      "execution_count": null,
      "outputs": []
    },
    {
      "cell_type": "code",
      "metadata": {
        "colab": {
          "base_uri": "https://localhost:8080/"
        },
        "id": "jGqQl-MqrnET",
        "outputId": "08054496-6c54-4133-951e-96af0051f01b"
      },
      "source": [
        "from google.colab import drive\n",
        "drive.mount('/content/drive')"
      ],
      "execution_count": 1,
      "outputs": [
        {
          "output_type": "stream",
          "text": [
            "Mounted at /content/drive\n"
          ],
          "name": "stdout"
        }
      ]
    },
    {
      "cell_type": "code",
      "metadata": {
        "colab": {
          "base_uri": "https://localhost:8080/"
        },
        "id": "UAiW-RlhsUPG",
        "outputId": "b92a532c-e645-4afe-9dde-0ec2829caf81"
      },
      "source": [
        "# https://towardsdatascience.com/extracting-speech-from-video-using-python-f0ec7e312d38\n",
        "# https://github.com/googlecolab/colabtools/issues/12\n",
        "# https://github.com/bambocher/pocketsphinx-python\n",
        "!pip install SpeechRecognition moviepy\n",
        "!pip install labelImg\n",
        "!pip install wheel\n",
        "!python3 -m pip install --upgrade pip setuptools wheel\n",
        "!apt-get install -y swig libpulse-dev\n",
        "!pip install pocketsphinx\n",
        "!pip install --upgrade pocketsphinx"
      ],
      "execution_count": 23,
      "outputs": [
        {
          "output_type": "stream",
          "text": [
            "Requirement already satisfied: SpeechRecognition in /usr/local/lib/python3.7/dist-packages (3.8.1)\n",
            "Requirement already satisfied: moviepy in /usr/local/lib/python3.7/dist-packages (0.2.3.5)\n",
            "Requirement already satisfied: decorator<5.0,>=4.0.2 in /usr/local/lib/python3.7/dist-packages (from moviepy) (4.4.2)\n",
            "Requirement already satisfied: numpy in /usr/local/lib/python3.7/dist-packages (from moviepy) (1.19.5)\n",
            "Requirement already satisfied: imageio<3.0,>=2.1.2 in /usr/local/lib/python3.7/dist-packages (from moviepy) (2.4.1)\n",
            "Requirement already satisfied: tqdm<5.0,>=4.11.2 in /usr/local/lib/python3.7/dist-packages (from moviepy) (4.41.1)\n",
            "Requirement already satisfied: pillow in /usr/local/lib/python3.7/dist-packages (from imageio<3.0,>=2.1.2->moviepy) (7.1.2)\n",
            "\u001b[33mWARNING: Running pip as root will break packages and permissions. You should install packages reliably by using venv: https://pip.pypa.io/warnings/venv\u001b[0m\n",
            "Requirement already satisfied: labelImg in /usr/local/lib/python3.7/dist-packages (1.8.5)\n",
            "Requirement already satisfied: pyqt5 in /usr/local/lib/python3.7/dist-packages (from labelImg) (5.15.4)\n",
            "Requirement already satisfied: lxml in /usr/local/lib/python3.7/dist-packages (from labelImg) (4.2.6)\n",
            "Requirement already satisfied: PyQt5-Qt5>=5.15 in /usr/local/lib/python3.7/dist-packages (from pyqt5->labelImg) (5.15.2)\n",
            "Requirement already satisfied: PyQt5-sip<13,>=12.8 in /usr/local/lib/python3.7/dist-packages (from pyqt5->labelImg) (12.8.1)\n",
            "\u001b[33mWARNING: Running pip as root will break packages and permissions. You should install packages reliably by using venv: https://pip.pypa.io/warnings/venv\u001b[0m\n",
            "Requirement already satisfied: wheel in /usr/local/lib/python3.7/dist-packages (0.36.2)\n",
            "\u001b[33mWARNING: Running pip as root will break packages and permissions. You should install packages reliably by using venv: https://pip.pypa.io/warnings/venv\u001b[0m\n",
            "Requirement already satisfied: pip in /usr/local/lib/python3.7/dist-packages (21.1.1)\n",
            "Requirement already satisfied: setuptools in /usr/local/lib/python3.7/dist-packages (56.0.0)\n",
            "Requirement already satisfied: wheel in /usr/local/lib/python3.7/dist-packages (0.36.2)\n",
            "\u001b[33mWARNING: Running pip as root will break packages and permissions. You should install packages reliably by using venv: https://pip.pypa.io/warnings/venv\u001b[0m\n",
            "Reading package lists... Done\n",
            "Building dependency tree       \n",
            "Reading state information... Done\n",
            "The following package was automatically installed and is no longer required:\n",
            "  libnvidia-common-460\n",
            "Use 'apt autoremove' to remove it.\n",
            "The following additional packages will be installed:\n",
            "  libpulse-mainloop-glib0 swig3.0\n",
            "Suggested packages:\n",
            "  swig-doc swig-examples swig3.0-examples swig3.0-doc\n",
            "The following NEW packages will be installed:\n",
            "  libpulse-dev libpulse-mainloop-glib0 swig swig3.0\n",
            "0 upgraded, 4 newly installed, 0 to remove and 34 not upgraded.\n",
            "Need to get 1,204 kB of archives.\n",
            "After this operation, 6,540 kB of additional disk space will be used.\n",
            "Get:1 http://archive.ubuntu.com/ubuntu bionic-updates/main amd64 libpulse-mainloop-glib0 amd64 1:11.1-1ubuntu7.11 [22.1 kB]\n",
            "Get:2 http://archive.ubuntu.com/ubuntu bionic-updates/main amd64 libpulse-dev amd64 1:11.1-1ubuntu7.11 [81.5 kB]\n",
            "Get:3 http://archive.ubuntu.com/ubuntu bionic/universe amd64 swig3.0 amd64 3.0.12-1 [1,094 kB]\n",
            "Get:4 http://archive.ubuntu.com/ubuntu bionic/universe amd64 swig amd64 3.0.12-1 [6,460 B]\n",
            "Fetched 1,204 kB in 1s (1,302 kB/s)\n",
            "Selecting previously unselected package libpulse-mainloop-glib0:amd64.\n",
            "(Reading database ... 160690 files and directories currently installed.)\n",
            "Preparing to unpack .../libpulse-mainloop-glib0_1%3a11.1-1ubuntu7.11_amd64.deb ...\n",
            "Unpacking libpulse-mainloop-glib0:amd64 (1:11.1-1ubuntu7.11) ...\n",
            "Selecting previously unselected package libpulse-dev:amd64.\n",
            "Preparing to unpack .../libpulse-dev_1%3a11.1-1ubuntu7.11_amd64.deb ...\n",
            "Unpacking libpulse-dev:amd64 (1:11.1-1ubuntu7.11) ...\n",
            "Selecting previously unselected package swig3.0.\n",
            "Preparing to unpack .../swig3.0_3.0.12-1_amd64.deb ...\n",
            "Unpacking swig3.0 (3.0.12-1) ...\n",
            "Selecting previously unselected package swig.\n",
            "Preparing to unpack .../swig_3.0.12-1_amd64.deb ...\n",
            "Unpacking swig (3.0.12-1) ...\n",
            "Setting up libpulse-mainloop-glib0:amd64 (1:11.1-1ubuntu7.11) ...\n",
            "Setting up libpulse-dev:amd64 (1:11.1-1ubuntu7.11) ...\n",
            "Setting up swig3.0 (3.0.12-1) ...\n",
            "Setting up swig (3.0.12-1) ...\n",
            "Processing triggers for man-db (2.8.3-2ubuntu0.1) ...\n",
            "Processing triggers for libc-bin (2.27-3ubuntu1.2) ...\n",
            "/sbin/ldconfig.real: /usr/local/lib/python3.7/dist-packages/ideep4py/lib/libmkldnn.so.0 is not a symbolic link\n",
            "\n",
            "Collecting pocketsphinx\n",
            "  Using cached pocketsphinx-0.1.15.tar.gz (29.1 MB)\n",
            "Building wheels for collected packages: pocketsphinx\n",
            "  Building wheel for pocketsphinx (setup.py) ... \u001b[?25l\u001b[?25hdone\n",
            "  Created wheel for pocketsphinx: filename=pocketsphinx-0.1.15-cp37-cp37m-linux_x86_64.whl size=30130013 sha256=cd542ff2acdc0e9d3ebc48097552cb7e446f7bbc28851fb613329345bfb02d2b\n",
            "  Stored in directory: /root/.cache/pip/wheels/f2/d0/5a/65092a0aa81f04654702613c194b64df1c89468ab57d300273\n",
            "Successfully built pocketsphinx\n",
            "Installing collected packages: pocketsphinx\n",
            "Successfully installed pocketsphinx-0.1.15\n",
            "\u001b[33mWARNING: Running pip as root will break packages and permissions. You should install packages reliably by using venv: https://pip.pypa.io/warnings/venv\u001b[0m\n",
            "Requirement already satisfied: pocketsphinx in /usr/local/lib/python3.7/dist-packages (0.1.15)\n",
            "\u001b[33mWARNING: Running pip as root will break packages and permissions. You should install packages reliably by using venv: https://pip.pypa.io/warnings/venv\u001b[0m\n"
          ],
          "name": "stdout"
        }
      ]
    },
    {
      "cell_type": "code",
      "metadata": {
        "id": "dmRXHjz9scwY"
      },
      "source": [
        "import speech_recognition as sr \n",
        "import moviepy.editor as mp\n",
        "from pocketsphinx import LiveSpeech"
      ],
      "execution_count": 25,
      "outputs": []
    },
    {
      "cell_type": "code",
      "metadata": {
        "colab": {
          "base_uri": "https://localhost:8080/"
        },
        "id": "4NR3rvZcs2oH",
        "outputId": "8ab7ad68-ce75-4ad1-9ca3-c55ce73377dd"
      },
      "source": [
        "!ls"
      ],
      "execution_count": 26,
      "outputs": [
        {
          "output_type": "stream",
          "text": [
            "converted.wav  drive  fifa2.mp4  sample_data\n"
          ],
          "name": "stdout"
        }
      ]
    },
    {
      "cell_type": "code",
      "metadata": {
        "colab": {
          "base_uri": "https://localhost:8080/"
        },
        "id": "V2YLfjLVsf7e",
        "outputId": "3e3e92c3-e8f7-4a79-b22d-a0ee6d26e6d6"
      },
      "source": [
        "clip = mp.VideoFileClip(r'fifa2.mp4') \n",
        "clip.audio.write_audiofile(r'converted.wav')"
      ],
      "execution_count": 27,
      "outputs": [
        {
          "output_type": "stream",
          "text": [
            "[MoviePy] Writing audio in converted.wav\n"
          ],
          "name": "stdout"
        },
        {
          "output_type": "stream",
          "text": [
            "100%|██████████| 33561/33561 [00:15<00:00, 2171.30it/s]"
          ],
          "name": "stderr"
        },
        {
          "output_type": "stream",
          "text": [
            "[MoviePy] Done.\n"
          ],
          "name": "stdout"
        },
        {
          "output_type": "stream",
          "text": [
            "\n"
          ],
          "name": "stderr"
        }
      ]
    },
    {
      "cell_type": "code",
      "metadata": {
        "id": "euD7GjQ2FVht"
      },
      "source": [
        "r = sr.Recognizer()"
      ],
      "execution_count": 28,
      "outputs": []
    },
    {
      "cell_type": "code",
      "metadata": {
        "id": "2IfewDVfFcZJ"
      },
      "source": [
        "audio = sr.AudioFile('converted.wav')"
      ],
      "execution_count": 29,
      "outputs": []
    },
    {
      "cell_type": "code",
      "metadata": {
        "id": "Iq1X4xhhFiSY"
      },
      "source": [
        "with audio as source:\n",
        "  audio_file = r.record(source)\n",
        "\n",
        "result = r.recognize_sphinx(audio_file)"
      ],
      "execution_count": 30,
      "outputs": []
    },
    {
      "cell_type": "code",
      "metadata": {
        "colab": {
          "base_uri": "https://localhost:8080/"
        },
        "id": "vocTfyw2JEgZ",
        "outputId": "e0208280-49a3-4f36-95a6-ff74d32f87a8"
      },
      "source": [
        "# exporting the result \n",
        "with open('recognized.txt',mode ='w') as file: \n",
        "  file.write(\"Recognized Speech:\") \n",
        "  file.write(\"\\n\") \n",
        "  file.write(result) \n",
        "  print(\"ready!\")"
      ],
      "execution_count": 33,
      "outputs": [
        {
          "output_type": "stream",
          "text": [
            "ready!\n"
          ],
          "name": "stdout"
        }
      ]
    }
  ]
}